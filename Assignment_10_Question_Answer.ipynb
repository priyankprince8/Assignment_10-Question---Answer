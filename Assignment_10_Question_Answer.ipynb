{
  "nbformat": 4,
  "nbformat_minor": 0,
  "metadata": {
    "colab": {
      "provenance": []
    },
    "kernelspec": {
      "name": "python3",
      "display_name": "Python 3"
    },
    "language_info": {
      "name": "python"
    }
  },
  "cells": [
    {
      "cell_type": "code",
      "execution_count": 4,
      "metadata": {
        "colab": {
          "base_uri": "https://localhost:8080/"
        },
        "id": "3zY9gfSwKioa",
        "outputId": "9bbf5b24-5b6c-4e0f-801c-0792e1a65022"
      },
      "outputs": [
        {
          "output_type": "stream",
          "name": "stdout",
          "text": [
            "True\n",
            "False\n",
            "False\n"
          ]
        }
      ],
      "source": [
        "#Question 1\n",
        "def isPowerOfThree(n):\n",
        "    if n <= 0:\n",
        "        return False\n",
        "\n",
        "    while n % 3 == 0:\n",
        "        n //= 3\n",
        "\n",
        "    return n == 1\n",
        "print(isPowerOfThree(27))\n",
        "\n",
        "print(isPowerOfThree(0))\n",
        "\n",
        "print(isPowerOfThree(-1))\n"
      ]
    },
    {
      "cell_type": "code",
      "source": [
        "#Question 2\n",
        "def lastRemaining(n):\n",
        "    left_to_right = True\n",
        "    remaining = n\n",
        "    step = 1\n",
        "\n",
        "\n",
        "    start = 1\n",
        "\n",
        "    while remaining > 1:\n",
        "        if left_to_right or remaining % 2 == 1:\n",
        "\n",
        "            start += step\n",
        "\n",
        "        remaining //= 2\n",
        "        step *= 2\n",
        "        left_to_right = not left_to_right\n",
        "\n",
        "    return start\n",
        "\n",
        "\n",
        "print(lastRemaining(9))\n",
        "print(lastRemaining(1))\n"
      ],
      "metadata": {
        "colab": {
          "base_uri": "https://localhost:8080/"
        },
        "id": "xfiKiiZ3KsmQ",
        "outputId": "a4e66073-e996-465b-a160-1b23cabaed8f"
      },
      "execution_count": 7,
      "outputs": [
        {
          "output_type": "stream",
          "name": "stdout",
          "text": [
            "6\n",
            "1\n"
          ]
        }
      ]
    },
    {
      "cell_type": "code",
      "source": [
        "#Question 3\n",
        "def generateSubsets(s):\n",
        "    if len(s) == 0:\n",
        "        return [\"\"]\n",
        "\n",
        "    subsets = []\n",
        "    first_char = s[0]\n",
        "    remaining_string = s[1:]\n",
        "\n",
        "\n",
        "    included_subsets = generateSubsets(remaining_string)\n",
        "    for subset in included_subsets:\n",
        "        subsets.append(first_char + subset)\n",
        "\n",
        "\n",
        "    excluded_subsets = generateSubsets(remaining_string)\n",
        "    subsets.extend(excluded_subsets)\n",
        "\n",
        "    return subsets\n",
        "\n",
        "\n",
        "\n",
        "input_set = \"abc\"\n",
        "subsets = generateSubsets(input_set)\n",
        "print(subsets)\n",
        "\n",
        "input_set = \"abcd\"\n",
        "subsets = generateSubsets(input_set)\n",
        "print(subsets)"
      ],
      "metadata": {
        "colab": {
          "base_uri": "https://localhost:8080/"
        },
        "id": "axxRBJU-LP9U",
        "outputId": "1304e044-78f5-43d8-fa5a-6e5e724e77f6"
      },
      "execution_count": 11,
      "outputs": [
        {
          "output_type": "stream",
          "name": "stdout",
          "text": [
            "['abc', 'ab', 'ac', 'a', 'bc', 'b', 'c', '']\n",
            "['abcd', 'abc', 'abd', 'ab', 'acd', 'ac', 'ad', 'a', 'bcd', 'bc', 'bd', 'b', 'cd', 'c', 'd', '']\n"
          ]
        }
      ]
    },
    {
      "cell_type": "code",
      "source": [
        "#Question 4\n",
        "def countDistinctCharacters(s):\n",
        "    distinct_chars = set(s)\n",
        "    return len(distinct_chars)\n",
        "\n",
        "\n",
        "\n",
        "input_str = \"abcd\"\n",
        "distinct_count = countDistinctCharacters(input_str)\n",
        "print(distinct_count)\n",
        "\n",
        "\n"
      ],
      "metadata": {
        "colab": {
          "base_uri": "https://localhost:8080/"
        },
        "id": "PRWRFvDwMXQ3",
        "outputId": "70a7b0eb-5a93-41d5-f597-1cb5ccb7e6cb"
      },
      "execution_count": 16,
      "outputs": [
        {
          "output_type": "stream",
          "name": "stdout",
          "text": [
            "4\n"
          ]
        }
      ]
    },
    {
      "cell_type": "code",
      "source": [
        "#Question 6\n",
        "def towerOfHanoi(n, source, auxiliary, destination):\n",
        "    if n == 1:\n",
        "        print(\"Move disk 1 from\", source, \"to\", destination)\n",
        "        return 1\n",
        "\n",
        "    moves = 0\n",
        "\n",
        "\n",
        "    moves += towerOfHanoi(n - 1, source, destination, auxiliary)\n",
        "\n",
        "\n",
        "    print(\"Move disk\", n, \"from\", source, \"to\", destination)\n",
        "    moves += 1\n",
        "\n",
        "\n",
        "    moves += towerOfHanoi(n - 1, auxiliary, source, destination)\n",
        "\n",
        "    return moves\n",
        "\n",
        "\n",
        "\n",
        "n = 2\n",
        "source_rod = \"Rod 1\"\n",
        "auxiliary_rod = \"Rod 2\"\n",
        "destination_rod = \"Rod 3\"\n",
        "\n",
        "total_moves = towerOfHanoi(n, source_rod, auxiliary_rod, destination_rod)\n",
        "print(\"Total moves:\", total_moves)\n",
        "n = 3\n",
        "source_rod = \"Rod 1\"\n",
        "auxiliary_rod = \"Rod 2\"\n",
        "destination_rod = \"Rod 3\"\n",
        "\n",
        "total_moves = towerOfHanoi(n, source_rod, auxiliary_rod, destination_rod)\n",
        "print(\"Total moves:\", total_moves)\n"
      ],
      "metadata": {
        "colab": {
          "base_uri": "https://localhost:8080/"
        },
        "id": "QQXmdGgYNBiZ",
        "outputId": "698d46ac-df78-48f1-859e-18bce658eb4e"
      },
      "execution_count": 20,
      "outputs": [
        {
          "output_type": "stream",
          "name": "stdout",
          "text": [
            "Move disk 1 from Rod 1 to Rod 2\n",
            "Move disk 2 from Rod 1 to Rod 3\n",
            "Move disk 1 from Rod 2 to Rod 3\n",
            "Total moves: 3\n",
            "Move disk 1 from Rod 1 to Rod 3\n",
            "Move disk 2 from Rod 1 to Rod 2\n",
            "Move disk 1 from Rod 3 to Rod 2\n",
            "Move disk 3 from Rod 1 to Rod 3\n",
            "Move disk 1 from Rod 2 to Rod 1\n",
            "Move disk 2 from Rod 2 to Rod 3\n",
            "Move disk 1 from Rod 1 to Rod 3\n",
            "Total moves: 7\n"
          ]
        }
      ]
    },
    {
      "cell_type": "code",
      "source": [
        "#Question 7\n",
        "def permute(str, left, right):\n",
        "    if left == right:\n",
        "        print(''.join(str))\n",
        "    else:\n",
        "        for i in range(left, right + 1):\n",
        "            str[left], str[i] = str[i], str[left]\n",
        "            permute(str, left + 1, right)\n",
        "            str[left], str[i] = str[i], str[left]\n",
        "\n",
        "\n",
        "\n",
        "input_str = \"cd\"\n",
        "n = len(input_str)\n",
        "str_list = list(input_str)\n",
        "\n",
        "permute(str_list, 0, n - 1)\n",
        "\n",
        "input_str = \"abb\"\n",
        "n = len(input_str)\n",
        "str_list = list(input_str)\n",
        "\n",
        "permute(str_list, 0, n - 1)"
      ],
      "metadata": {
        "colab": {
          "base_uri": "https://localhost:8080/"
        },
        "id": "G8n9YyhUNId0",
        "outputId": "efdab945-f817-45a4-cb20-e72071d4dad2"
      },
      "execution_count": 23,
      "outputs": [
        {
          "output_type": "stream",
          "name": "stdout",
          "text": [
            "cd\n",
            "dc\n",
            "abb\n",
            "abb\n",
            "bab\n",
            "bba\n",
            "bba\n",
            "bab\n"
          ]
        }
      ]
    },
    {
      "cell_type": "code",
      "source": [
        "#Question 8\n",
        "def countConsonants(string):\n",
        "    consonant_count = 0\n",
        "    vowels = ['a', 'e', 'i', 'o', 'u']\n",
        "\n",
        "\n",
        "    for char in string.lower():\n",
        "\n",
        "        if char.isalpha() and char not in vowels:\n",
        "            consonant_count += 1\n",
        "\n",
        "    return consonant_count\n",
        "\n",
        "\n",
        "\n",
        "input_string = \"abc de\"\n",
        "consonant_count = countConsonants(input_string)\n",
        "print(\"Total consonants:\", consonant_count)\n"
      ],
      "metadata": {
        "colab": {
          "base_uri": "https://localhost:8080/"
        },
        "id": "SO6iqZD6OvTC",
        "outputId": "2cc07eeb-9b7b-4ecd-9533-e219aa983a80"
      },
      "execution_count": 26,
      "outputs": [
        {
          "output_type": "stream",
          "name": "stdout",
          "text": [
            "Total consonants: 3\n"
          ]
        }
      ]
    },
    {
      "cell_type": "code",
      "source": [],
      "metadata": {
        "id": "ZVAXmPV0PJGO"
      },
      "execution_count": null,
      "outputs": []
    }
  ]
}